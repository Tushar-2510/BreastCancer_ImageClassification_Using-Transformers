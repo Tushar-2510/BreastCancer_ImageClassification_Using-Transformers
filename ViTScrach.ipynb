{
 "cells": [
  {
   "cell_type": "code",
   "execution_count": 1,
   "id": "e160a50a",
   "metadata": {},
   "outputs": [],
   "source": [
    "import torch"
   ]
  },
  {
   "cell_type": "code",
   "execution_count": 2,
   "id": "0e79aa7f",
   "metadata": {},
   "outputs": [],
   "source": [
    "import matplotlib.pyplot as plt"
   ]
  },
  {
   "cell_type": "code",
   "execution_count": 3,
   "id": "5154efab",
   "metadata": {},
   "outputs": [],
   "source": [
    "import torchvision"
   ]
  },
  {
   "cell_type": "code",
   "execution_count": 4,
   "id": "3c26ade6",
   "metadata": {},
   "outputs": [],
   "source": [
    "from torch import nn\n",
    "from torchvision import transforms"
   ]
  },
  {
   "cell_type": "code",
   "execution_count": 5,
   "id": "25bebfe3",
   "metadata": {},
   "outputs": [
    {
     "data": {
      "text/plain": [
       "'cuda'"
      ]
     },
     "execution_count": 5,
     "metadata": {},
     "output_type": "execute_result"
    }
   ],
   "source": [
    "device = \"cuda\" if torch.cuda.is_available() else \"cpu\"\n",
    "device"
   ]
  },
  {
   "cell_type": "code",
   "execution_count": 6,
   "id": "3914a74d",
   "metadata": {},
   "outputs": [],
   "source": [
    "from torchvision.datasets import ImageFolder\n",
    "from torch.utils.data import DataLoader\n",
    "import torch.nn.functional as F\n",
    "import torch.optim as optim"
   ]
  },
  {
   "cell_type": "code",
   "execution_count": 9,
   "id": "141d8a23",
   "metadata": {},
   "outputs": [],
   "source": [
    "train_dir = 'C:\\\\Users\\\\tusha\\\\Downloads\\\\AID710\\\\BC2\\\\RSNA_Crop\\\\BC2'\n",
    "test_dir = 'C:\\\\Users\\\\tusha\\\\Downloads\\\\AID710\\\\BC2\\\\RSNA_Crop\\\\test'"
   ]
  },
  {
   "cell_type": "code",
   "execution_count": 11,
   "id": "e79733a4",
   "metadata": {},
   "outputs": [],
   "source": [
    "import os\n",
    "NUM_WORKERS = os.cpu_count()\n",
    "\n",
    "def create_dataloaders(\n",
    "    train_dir: str,\n",
    "    test_dir: str,\n",
    "    transform: transforms.Compose,\n",
    "    batch_size: int,\n",
    "    num_workers: int=NUM_WORKERS\n",
    "):\n",
    "    train_data = datasets.ImageFolder(train_dir, transform=transform)\n",
    "    test_data = datasets.ImageFolder(test_dir, transform=transform)\n",
    "\n",
    "    class_names = train_data.classes\n",
    "\n",
    "    train_dataloader = DataLoader(\n",
    "        train_data,\n",
    "        batch_size=batch_size,\n",
    "        shuffle=True,\n",
    "        num_workers=num_workers,\n",
    "        pin_memory=True,\n",
    "    )\n",
    "    test_dataloader = DataLoader(\n",
    "        test_data,\n",
    "        batch_size=batch_size,\n",
    "        shuffle=False,\n",
    "        num_workers=num_workers,\n",
    "        pin_memory=True,\n",
    "    )\n",
    "    return train_dataloader, test_dataloader, class_names"
   ]
  },
  {
   "cell_type": "code",
   "execution_count": 12,
   "id": "b97b94d2",
   "metadata": {},
   "outputs": [
    {
     "name": "stdout",
     "output_type": "stream",
     "text": [
      "Manually created transforms: Compose(\n",
      "    Resize(size=(224, 224), interpolation=bilinear, max_size=None, antialias=warn)\n",
      "    ToTensor()\n",
      ")\n"
     ]
    }
   ],
   "source": [
    "IMG_SIZE = 224\n",
    "\n",
    "manual_transforms = transforms.Compose([\n",
    "    transforms.Resize((IMG_SIZE, IMG_SIZE)),\n",
    "    transforms.ToTensor(),\n",
    "])\n",
    "print(f\"Manually created transforms: {manual_transforms}\")"
   ]
  },
  {
   "cell_type": "code",
   "execution_count": 14,
   "id": "c2597931",
   "metadata": {},
   "outputs": [],
   "source": [
    "from torchvision import datasets"
   ]
  },
  {
   "cell_type": "code",
   "execution_count": 15,
   "id": "0be98c0b",
   "metadata": {},
   "outputs": [
    {
     "data": {
      "text/plain": [
       "(<torch.utils.data.dataloader.DataLoader at 0x199e85fcdf0>,\n",
       " <torch.utils.data.dataloader.DataLoader at 0x199ee863e50>,\n",
       " ['cancer', 'no_cancer'])"
      ]
     },
     "execution_count": 15,
     "metadata": {},
     "output_type": "execute_result"
    }
   ],
   "source": [
    "BATCH_SIZE = 32\n",
    "\n",
    "train_dataloader, test_dataloader, class_names = create_dataloaders(\n",
    "    train_dir=train_dir,\n",
    "    test_dir=test_dir,\n",
    "    transform=manual_transforms,\n",
    "    batch_size=BATCH_SIZE\n",
    ")\n",
    "train_dataloader, test_dataloader, class_names"
   ]
  },
  {
   "cell_type": "code",
   "execution_count": 16,
   "id": "e1314ed1",
   "metadata": {},
   "outputs": [],
   "source": [
    "class PatchEmbedding(nn.Module):\n",
    "    def __init__(self,\n",
    "                 in_channels:int=3,\n",
    "                 patch_size:int=16,\n",
    "                 embedding_dim:int=768):\n",
    "        super().__init__()\n",
    "\n",
    "        self.patcher = nn.Conv2d(in_channels=in_channels,\n",
    "                                out_channels=embedding_dim,\n",
    "                                kernel_size=patch_size,\n",
    "                                stride=patch_size,\n",
    "                                padding=0)\n",
    "\n",
    "        self.flatten = nn.Flatten(start_dim=2,end_dim=3)\n",
    "\n",
    "    def forward(self,x):\n",
    "\n",
    "        image_resolution =x.shape[-1]\n",
    "        assert image_resolution % patch_size == 0, f\"Input size must be divisible by patch size, image shape:{image_resolution}, patch size: {patch_size}\"\n",
    "\n",
    "        x_patched = self.patcher(x)\n",
    "        x_flattened = self.flatten(x_patched)\n",
    "\n",
    "        return x_flattened.permute(0,2,1)"
   ]
  },
  {
   "cell_type": "code",
   "execution_count": 18,
   "id": "6a0deb61",
   "metadata": {},
   "outputs": [
    {
     "name": "stdout",
     "output_type": "stream",
     "text": [
      "torch.Size([3, 224, 224]) tensor(1)\n"
     ]
    },
    {
     "data": {
      "image/png": "[encoded data removed]",
      "text/plain": [
       "<Figure size 432x288 with 1 Axes>"
      ]
     },
     "metadata": {
      "needs_background": "light"
     },
     "output_type": "display_data"
    }
   ],
   "source": [
    "image_batch, label_batch = next(iter(train_dataloader))\n",
    "image, label = image_batch[0], label_batch[0]\n",
    "print(image.shape, label)\n",
    "\n",
    "plt.imshow(image.permute(1,2,0))\n",
    "plt.title(class_names[label])\n",
    "plt.axis(False);"
   ]
  },
  {
   "cell_type": "code",
   "execution_count": 19,
   "id": "33ab3a8c",
   "metadata": {},
   "outputs": [
    {
     "name": "stdout",
     "output_type": "stream",
     "text": [
      "Input image shape: torch.Size([1, 3, 224, 224])\n",
      "Output patch embedding shape: torch.Size([1, 196, 768])\n"
     ]
    }
   ],
   "source": [
    "patch_size =16\n",
    "\n",
    "def set_seeds(seed: int=42):\n",
    "    torch.manual_seed(seed)\n",
    "    torch.cuda.manual_seed(seed)\n",
    "\n",
    "set_seeds()\n",
    "\n",
    "patchify = PatchEmbedding(in_channels=3,patch_size=16,embedding_dim=768)\n",
    "\n",
    "print(f\"Input image shape: {image.unsqueeze(0).shape}\")\n",
    "patch_embedded_image= patchify(image.unsqueeze(0))\n",
    "print(f\"Output patch embedding shape: {patch_embedded_image.shape}\")"
   ]
  },
  {
   "cell_type": "code",
   "execution_count": 20,
   "id": "6df044c5",
   "metadata": {},
   "outputs": [
    {
     "name": "stdout",
     "output_type": "stream",
     "text": [
      "tensor([[[-0.4984,  0.1177, -0.1638,  ...,  0.3439, -0.2024,  0.2115],\n",
      "         [-0.5008,  0.0881, -0.1554,  ...,  0.3615, -0.1419,  0.1496],\n",
      "         [-0.5248,  0.0477, -0.1927,  ...,  0.2379, -0.0234,  0.1112],\n",
      "         ...,\n",
      "         [-0.0188, -0.0114, -0.0311,  ...,  0.0105, -0.0033,  0.0033],\n",
      "         [-0.0188, -0.0114, -0.0311,  ...,  0.0105, -0.0033,  0.0033],\n",
      "         [-0.0188, -0.0114, -0.0311,  ...,  0.0105, -0.0033,  0.0033]]],\n",
      "       grad_fn=<PermuteBackward0>)\n",
      "Patch embedding shape: torch.Size([1, 196, 768]) -> [batch_size, number_of_patches, embedding_dimension]\n"
     ]
    }
   ],
   "source": [
    "print(patch_embedded_image)\n",
    "print(f\"Patch embedding shape: {patch_embedded_image.shape} -> [batch_size, number_of_patches, embedding_dimension]\")"
   ]
  },
  {
   "cell_type": "code",
   "execution_count": 21,
   "id": "47c688cd",
   "metadata": {},
   "outputs": [
    {
     "name": "stdout",
     "output_type": "stream",
     "text": [
      "Image tensor shape: torch.Size([3, 224, 224])\n",
      "Input image with batch dimension shape: torch.Size([1, 3, 224, 224])\n",
      "Patching embedding shape: torch.Size([1, 196, 768])\n",
      "Class token embedding shape: torch.Size([1, 1, 768])\n",
      "Patch embedding with class token shape: torch.Size([1, 197, 768])\n",
      "Patch and position embedding shape: torch.Size([1, 197, 768])\n",
      "tensor([[[ 1.0000,  1.0000,  1.0000,  ...,  1.0000,  1.0000,  1.0000],\n",
      "         [-0.4984,  0.1177, -0.1638,  ...,  0.3439, -0.2024,  0.2115],\n",
      "         [-0.5008,  0.0881, -0.1554,  ...,  0.3615, -0.1419,  0.1496],\n",
      "         ...,\n",
      "         [-0.0188, -0.0114, -0.0311,  ...,  0.0105, -0.0033,  0.0033],\n",
      "         [-0.0188, -0.0114, -0.0311,  ...,  0.0105, -0.0033,  0.0033],\n",
      "         [-0.0188, -0.0114, -0.0311,  ...,  0.0105, -0.0033,  0.0033]]],\n",
      "       grad_fn=<CatBackward0>)\n"
     ]
    }
   ],
   "source": [
    "set_seeds()\n",
    "\n",
    "# 1. Set patch size\n",
    "patch_size = 16\n",
    "\n",
    "# 2. Print shape of original image tensor\n",
    "print(f\"Image tensor shape: {image.shape}\")\n",
    "height, width = image.shape[1], image.shape[2]\n",
    "\n",
    "# 3. Get image tensor and add batch dimension\n",
    "x = image.unsqueeze(0)\n",
    "print(f\"Input image with batch dimension shape: {x.shape}\")\n",
    "\n",
    "# 4. Create patch embedding layer\n",
    "patch_embedding_layer = PatchEmbedding(in_channels=3,\n",
    "                                       patch_size=patch_size,\n",
    "                                       embedding_dim=768)\n",
    "\n",
    "# 5. Pass image through patch embedding layer\n",
    "patch_embedding = patch_embedding_layer(x)\n",
    "print(f\"Patching embedding shape: {patch_embedding.shape}\")\n",
    "\n",
    "\n",
    "\n",
    "# 6. Create class token embedding\n",
    "batch_size = patch_embedding.shape[0]\n",
    "embedding_dimension = patch_embedding.shape[-1]\n",
    "class_token = nn.Parameter(torch.ones(batch_size, 1, embedding_dimension),\n",
    "                           requires_grad=True) # make sure it's learnable\n",
    "print(f\"Class token embedding shape: {class_token.shape}\")\n",
    "\n",
    "# 7. Prepend class token embedding to patch embedding\n",
    "patch_embedding_class_token = torch.cat((class_token, patch_embedding), dim=1)\n",
    "print(f\"Patch embedding with class token shape: {patch_embedding_class_token.shape}\")\n",
    "\n",
    "# 8. Create position embedding\n",
    "number_of_patches = int((height * width) / patch_size**2)\n",
    "position_embedding = nn.Parameter(torch.ones(1, number_of_patches+1, embedding_dimension),\n",
    "                                  requires_grad=True) # make sure it's learnable\n",
    "\n",
    "\n",
    "# 9. Add position embedding to patch embedding with class token\n",
    "patch_and_position_embedding = patch_embedding_class_token + position_embedding\n",
    "print(f\"Patch and position embedding shape: {patch_and_position_embedding.shape}\")\n",
    "#patch_and_position_embedding\n",
    "\n",
    "print(patch_embedding_class_token)  #1 is added in the beginning of each"
   ]
  },
  {
   "cell_type": "code",
   "execution_count": 22,
   "id": "974845e9",
   "metadata": {},
   "outputs": [],
   "source": [
    "\n",
    "class MultiheadSelfAttentionBlock(nn.Module):\n",
    "    \"\"\"Creates a multi-head self-attention block (\"MSA block\" for short).\n",
    "    \"\"\"\n",
    "\n",
    "    def __init__(self,\n",
    "                 embedding_dim:int=768, \n",
    "                 num_heads:int=12,\n",
    "                 attn_dropout:float=0): \n",
    "        super().__init__()\n",
    "\n",
    "     \n",
    "        self.layer_norm = nn.LayerNorm(normalized_shape=embedding_dim)\n",
    "\n",
    "\n",
    "        self.multihead_attn = nn.MultiheadAttention(embed_dim=embedding_dim,\n",
    "                                                    num_heads=num_heads,\n",
    "                                                    dropout=attn_dropout,\n",
    "                                                    batch_first=True) \n",
    "\n",
    "   \n",
    "    def forward(self, x):\n",
    "        x = self.layer_norm(x)\n",
    "        attn_output, _ = self.multihead_attn(query=x, \n",
    "                                             key=x, \n",
    "                                             value=x, \n",
    "                                             need_weights=False) \n",
    "        return attn_output"
   ]
  },
  {
   "cell_type": "code",
   "execution_count": 23,
   "id": "5c8d8f45",
   "metadata": {},
   "outputs": [],
   "source": [
    "class MLPBlock(nn.Module):\n",
    "    \"\"\"Creates a layer normalized multilayer perceptron block (\"MLP block\" for short).\"\"\"\n",
    "    def __init__(self,\n",
    "                 embedding_dim:int=768, \n",
    "                 mlp_size:int=3072,\n",
    "                 dropout:float=0.1): \n",
    "        super().__init__()\n",
    "\n",
    "   \n",
    "        self.layer_norm = nn.LayerNorm(normalized_shape=embedding_dim)\n",
    "\n",
    "\n",
    "        self.mlp = nn.Sequential(\n",
    "            nn.Linear(in_features=embedding_dim,\n",
    "                      out_features=mlp_size),\n",
    "            nn.GELU(), \n",
    "            nn.Dropout(p=dropout),\n",
    "            nn.Linear(in_features=mlp_size, \n",
    "                      out_features=embedding_dim), \n",
    "            nn.Dropout(p=dropout) \n",
    "        )\n",
    "\n",
    "    def forward(self, x):\n",
    "        x = self.layer_norm(x)\n",
    "        x = self.mlp(x)\n",
    "        return x"
   ]
  },
  {
   "cell_type": "code",
   "execution_count": 24,
   "id": "9befff09",
   "metadata": {},
   "outputs": [],
   "source": [
    "class TransformerEncoderBlock(nn.Module):\n",
    "    \"\"\"Creates a Transformer Encoder block.\"\"\"\n",
    "    def __init__(self,\n",
    "                 embedding_dim:int=768,\n",
    "                 num_heads:int=12, \n",
    "                 mlp_size:int=3072,\n",
    "                 mlp_dropout:float=0.1,\n",
    "                 attn_dropout:float=0): \n",
    "        super().__init__()\n",
    "\n",
    "\n",
    "        self.msa_block = MultiheadSelfAttentionBlock(embedding_dim=embedding_dim,\n",
    "                                                     num_heads=num_heads,\n",
    "                                                     attn_dropout=attn_dropout)\n",
    "\n",
    "\n",
    "        self.mlp_block =  MLPBlock(embedding_dim=embedding_dim,\n",
    "                                   mlp_size=mlp_size,\n",
    "                                   dropout=mlp_dropout)\n",
    "\n",
    "    def forward(self, x):\n",
    "\n",
    "        x =  self.msa_block(x) + x\n",
    "\n",
    "        x = self.mlp_block(x) + x\n",
    "\n",
    "        return x\n"
   ]
  },
  {
   "cell_type": "code",
   "execution_count": 25,
   "id": "7c408ac1",
   "metadata": {},
   "outputs": [
    {
     "data": {
      "text/plain": [
       "==================================================================================================================================\n",
       "Layer (type (var_name))                            Input Shape          Output Shape         Param #              Trainable\n",
       "==================================================================================================================================\n",
       "TransformerEncoderBlock (TransformerEncoderBlock)  [1, 197, 768]        [1, 197, 768]        --                   True\n",
       "├─MultiheadSelfAttentionBlock (msa_block)          [1, 197, 768]        [1, 197, 768]        --                   True\n",
       "│    └─LayerNorm (layer_norm)                      [1, 197, 768]        [1, 197, 768]        1,536                True\n",
       "│    └─MultiheadAttention (multihead_attn)         --                   [1, 197, 768]        2,362,368            True\n",
       "├─MLPBlock (mlp_block)                             [1, 197, 768]        [1, 197, 768]        --                   True\n",
       "│    └─LayerNorm (layer_norm)                      [1, 197, 768]        [1, 197, 768]        1,536                True\n",
       "│    └─Sequential (mlp)                            [1, 197, 768]        [1, 197, 768]        --                   True\n",
       "│    │    └─Linear (0)                             [1, 197, 768]        [1, 197, 3072]       2,362,368            True\n",
       "│    │    └─GELU (1)                               [1, 197, 3072]       [1, 197, 3072]       --                   --\n",
       "│    │    └─Dropout (2)                            [1, 197, 3072]       [1, 197, 3072]       --                   --\n",
       "│    │    └─Linear (3)                             [1, 197, 3072]       [1, 197, 768]        2,360,064            True\n",
       "│    │    └─Dropout (4)                            [1, 197, 768]        [1, 197, 768]        --                   --\n",
       "==================================================================================================================================\n",
       "Total params: 7,087,872\n",
       "Trainable params: 7,087,872\n",
       "Non-trainable params: 0\n",
       "Total mult-adds (M): 4.73\n",
       "==================================================================================================================================\n",
       "Input size (MB): 0.61\n",
       "Forward/backward pass size (MB): 8.47\n",
       "Params size (MB): 18.90\n",
       "Estimated Total Size (MB): 27.98\n",
       "=================================================================================================================================="
      ]
     },
     "execution_count": 25,
     "metadata": {},
     "output_type": "execute_result"
    }
   ],
   "source": [
    "transformer_encoder_block = TransformerEncoderBlock()\n",
    "\n",
    "from torchinfo import summary\n",
    "# # Print an input and output summary of our Transformer Encoder (uncomment for full output)\n",
    "summary(model=transformer_encoder_block,\n",
    "        input_size=(1, 197, 768), # (batch_size, num_patches, embedding_dimension)\n",
    "        col_names=[\"input_size\", \"output_size\", \"num_params\", \"trainable\"],\n",
    "        col_width=20,\n",
    "       row_settings=[\"var_names\"])"
   ]
  },
  {
   "cell_type": "code",
   "execution_count": 26,
   "id": "7839bc39",
   "metadata": {},
   "outputs": [],
   "source": [
    "class ViT(nn.Module):\n",
    "    \"\"\"Creates a Vision Transformer architecture with ViT-Base hyperparameters by default.\"\"\"\n",
    "    def __init__(self,\n",
    "                 img_size:int=224, \n",
    "                 in_channels:int=3, \n",
    "                 patch_size:int=16, \n",
    "                 num_transformer_layers:int=12, \n",
    "                 embedding_dim:int=768, \n",
    "                 mlp_size:int=3072, \n",
    "                 num_heads:int=12, \n",
    "                 attn_dropout:float=0,\n",
    "                 mlp_dropout:float=0.1, \n",
    "                 embedding_dropout:float=0.1, \n",
    "                 num_classes:int=1000): \n",
    "        super().__init__() \n",
    "\n",
    "\n",
    "        assert img_size % patch_size == 0, f\"Image size must be divisible by patch size, image size: {img_size}, patch size: {patch_size}.\"\n",
    "\n",
    "   \n",
    "        self.num_patches = (img_size * img_size) // patch_size**2\n",
    "\n",
    "  \n",
    "        self.class_embedding = nn.Parameter(data=torch.randn(1, 1, embedding_dim),\n",
    "                                            requires_grad=True)\n",
    "\n",
    "\n",
    "        self.position_embedding = nn.Parameter(data=torch.randn(1, self.num_patches+1, embedding_dim),\n",
    "                                               requires_grad=True)\n",
    "\n",
    "    \n",
    "        self.embedding_dropout = nn.Dropout(p=embedding_dropout)\n",
    "\n",
    "\n",
    "        self.patch_embedding = PatchEmbedding(in_channels=in_channels,\n",
    "                                              patch_size=patch_size,\n",
    "                                              embedding_dim=embedding_dim)\n",
    "\n",
    "\n",
    "        self.transformer_encoder = nn.Sequential(*[TransformerEncoderBlock(embedding_dim=embedding_dim,\n",
    "                                                                            num_heads=num_heads,\n",
    "                                                                            mlp_size=mlp_size,\n",
    "                                                                            mlp_dropout=mlp_dropout) for _ in range(num_transformer_layers)])\n",
    "\n",
    "\n",
    "        self.classifier = nn.Sequential(\n",
    "            nn.LayerNorm(normalized_shape=embedding_dim),\n",
    "            nn.Linear(in_features=embedding_dim,\n",
    "                      out_features=num_classes)\n",
    "        )\n",
    "\n",
    "\n",
    "    def forward(self, x):\n",
    "\n",
    "\n",
    "        batch_size = x.shape[0]\n",
    "\n",
    "\n",
    "        class_token = self.class_embedding.expand(batch_size, -1, -1) \n",
    "\n",
    "  \n",
    "        x = self.patch_embedding(x)\n",
    "\n",
    " \n",
    "        x = torch.cat((class_token, x), dim=1)\n",
    "\n",
    "   \n",
    "        x = self.position_embedding + x\n",
    "\n",
    "\n",
    "        x = self.embedding_dropout(x)\n",
    "\n",
    "\n",
    "        x = self.transformer_encoder(x)\n",
    "\n",
    "        x = self.classifier(x[:, 0])\n",
    "\n",
    "        return x"
   ]
  },
  {
   "cell_type": "code",
   "execution_count": 30,
   "id": "5a363162",
   "metadata": {},
   "outputs": [],
   "source": [
    "model = ViT(num_classes=len(class_names))"
   ]
  },
  {
   "cell_type": "code",
   "execution_count": 28,
   "id": "d98f845d",
   "metadata": {},
   "outputs": [],
   "source": [
    "optimizer = torch.optim.Adam(params=vit.parameters(),\n",
    "                             lr=3e-3, \n",
    "                             betas=(0.9, 0.999),\n",
    "                             weight_decay=0.3)"
   ]
  },
  {
   "cell_type": "code",
   "execution_count": 32,
   "id": "616d42fb",
   "metadata": {},
   "outputs": [],
   "source": [
    "criterion = torch.nn.CrossEntropyLoss()"
   ]
  },
  {
   "cell_type": "code",
   "execution_count": 1,
   "id": "7029a894",
   "metadata": {},
   "outputs": [],
   "source": [
    "from sklearn.metrics import accuracy_score"
   ]
  },
  {
   "cell_type": "code",
   "execution_count": null,
   "id": "c79a6dff",
   "metadata": {},
   "outputs": [],
   "source": [
    "train_losses = []\n",
    "test_losses = []\n",
    "train_accuracies = []\n",
    "test_accuracies = []\n",
    "\n",
    "# Training and Testing Loop\n",
    "for epoch in range(5):\n",
    "    # Training\n",
    "    model.train()\n",
    "    train_loss = 0.0\n",
    "    train_preds, train_targets = [], []\n",
    "    for batch in train_dataloader:\n",
    "        inputs, targets = batch\n",
    "        optimizer.zero_grad()\n",
    "        outputs = model(inputs)\n",
    "        loss = criterion(outputs, targets)\n",
    "        loss.backward()\n",
    "        optimizer.step()\n",
    "        train_loss += loss.item()\n",
    "        train_preds.extend(outputs.argmax(dim=1).cpu().numpy())\n",
    "        train_targets.extend(targets.cpu().numpy())\n",
    "    train_losses.append(train_loss / len(train_dataloader))\n",
    "    train_accuracies.append(accuracy_score(train_targets, train_preds))\n",
    "\n",
    "    # Testing\n",
    "    model.eval()\n",
    "    test_loss = 0.0\n",
    "    test_preds, test_targets = [], []\n",
    "    with torch.no_grad():\n",
    "        for batch in test_dataloader:\n",
    "            inputs, targets = batch\n",
    "            outputs = model(inputs)\n",
    "            loss = criterion(outputs, targets)\n",
    "            test_loss += loss.item()\n",
    "            test_preds.extend(outputs.argmax(dim=1).cpu().numpy())\n",
    "            test_targets.extend(targets.cpu().numpy())\n",
    "    test_losses.append(test_loss / len(test_dataloader))\n",
    "    test_accuracies.append(accuracy_score(test_targets, test_preds))\n",
    "\n",
    "    print(f\"Epoch {epoch+1}: Train Loss: {train_losses[-1]:.3f}, Train Acc: {train_accuracies[-1]:.2f}, Test Loss: {test_losses[-1]:.3f}, Test Acc: {test_accuracies[-1]:.2f}\")\n",
    "\n",
    "# Plotting\n",
    "fig, axs = plt.subplots(2, 1)\n",
    "axs[0].plot(train_losses, label='Train Loss')\n",
    "axs[0].plot(test_losses, label='Test Loss')\n",
    "axs[0].set_title('Loss vs Epochs')\n",
    "axs[0].legend()\n",
    "\n",
    "axs[1].plot(train_accuracies, label='Train Accuracy')\n",
    "axs[1].plot(test_accuracies, label='Test Accuracy')\n",
    "axs[1].set_title('Accuracy vs Epochs')\n",
    "axs[1].legend()\n",
    "\n",
    "plt.tight_layout()\n",
    "plt.show()\n"
   ]
  },
  {
   "cell_type": "code",
   "execution_count": null,
   "id": "d70d9d57",
   "metadata": {},
   "outputs": [],
   "source": []
  }
 ],
 "metadata": {
  "kernelspec": {
   "display_name": "Python 3 (ipykernel)",
   "language": "python",
   "name": "python3"
  },
  "language_info": {
   "codemirror_mode": {
    "name": "ipython",
    "version": 3
   },
   "file_extension": ".py",
   "mimetype": "text/x-python",
   "name": "python",
   "nbconvert_exporter": "python",
   "pygments_lexer": "ipython3",
   "version": "3.9.12"
  }
 },
 "nbformat": 4,
 "nbformat_minor": 5
}

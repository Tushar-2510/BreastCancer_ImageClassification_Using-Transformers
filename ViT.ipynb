{
 "cells": [
  {
   "cell_type": "code",
   "execution_count": null,
   "id": "2394eec4",
   "metadata": {},
   "outputs": [],
   "source": []
  },
  {
   "cell_type": "code",
   "execution_count": 1,
   "id": "92460970",
   "metadata": {},
   "outputs": [
    {
     "data": {
      "text/plain": [
       "'cuda'"
      ]
     },
     "execution_count": 1,
     "metadata": {},
     "output_type": "execute_result"
    }
   ],
   "source": [
    "import os\n",
    "import torch\n",
    "import timm\n",
    "import matplotlib.pyplot as plt\n",
    "from torchvision import transforms\n",
    "from torchvision.datasets import ImageFolder\n",
    "from torch.utils.data import DataLoader\n",
    "import torch.nn.functional as F\n",
    "import torch.optim as optim\n",
    "from sklearn.metrics import accuracy_score\n",
    "device = \"cuda\" if torch.cuda.is_available() else \"cpu\"\n",
    "device"
   ]
  },
  {
   "cell_type": "code",
   "execution_count": null,
   "id": "9c7db194",
   "metadata": {},
   "outputs": [],
   "source": [
    "# Install the timm library to access a variety of pre-trained models including ViT\n",
    "\n",
    "\n",
    "# Imports\n",
    "\n",
    "# Data loading\n",
    "# Assuming you have mounted Google Drive and your train and test folders are available under '/content/drive/MyDrive/breast_cancer_data'\n",
    "train_transform = transforms.Compose([transforms.Resize((224, 224)),transforms.ToTensor()])\n",
    "test_transform = transforms.Compose([transforms.Resize((224, 224)),transforms.ToTensor()])\n",
    "\n",
    "train_dataset = ImageFolder('C:\\\\Users\\\\tusha\\\\Downloads\\\\AID710\\\\BC2\\\\RSNA_Crop\\\\BC2', transform=train_transform)\n",
    "test_dataset = ImageFolder('C:\\\\Users\\\\tusha\\\\Downloads\\\\AID710\\\\BC2\\\\RSNA_Crop\\\\test', transform=test_transform)\n",
    "\n",
    "train_loader = DataLoader(train_dataset, batch_size=32, shuffle=True)\n",
    "test_loader = DataLoader(test_dataset, batch_size=32, shuffle=False)\n",
    "\n",
    "# Model\n",
    "model = timm.create_model('vit_base_patch16_224', pretrained=True)\n",
    "num_classes = len(train_dataset.classes)\n",
    "model.head = torch.nn.Linear(model.head.in_features, num_classes)\n",
    "\n",
    "# Loss and Optimizer\n",
    "criterion = torch.nn.CrossEntropyLoss()\n",
    "optimizer = optim.Adam(model.parameters(), lr=0.001)\n",
    "\n",
    "# Metrics storage\n",
    "train_losses = []\n",
    "test_losses = []\n",
    "train_accuracies = []\n",
    "test_accuracies = []\n",
    "\n",
    "# Training and Testing Loop\n",
    "for epoch in range(5):\n",
    "    # Training\n",
    "    model.train()\n",
    "    train_loss = 0.0\n",
    "    train_preds, train_targets = [], []\n",
    "    for batch in train_loader:\n",
    "        inputs, targets = batch\n",
    "        optimizer.zero_grad()\n",
    "        outputs = model(inputs)\n",
    "        loss = criterion(outputs, targets)\n",
    "        loss.backward()\n",
    "        optimizer.step()\n",
    "        train_loss += loss.item()\n",
    "        train_preds.extend(outputs.argmax(dim=1).cpu().numpy())\n",
    "        train_targets.extend(targets.cpu().numpy())\n",
    "    train_losses.append(train_loss / len(train_loader))\n",
    "    train_accuracies.append(accuracy_score(train_targets, train_preds))\n",
    "\n",
    "    # Testing\n",
    "    model.eval()\n",
    "    test_loss = 0.0\n",
    "    test_preds, test_targets = [], []\n",
    "    with torch.no_grad():\n",
    "        for batch in test_loader:\n",
    "            inputs, targets = batch\n",
    "            outputs = model(inputs)\n",
    "            loss = criterion(outputs, targets)\n",
    "            test_loss += loss.item()\n",
    "            test_preds.extend(outputs.argmax(dim=1).cpu().numpy())\n",
    "            test_targets.extend(targets.cpu().numpy())\n",
    "    test_losses.append(test_loss / len(test_loader))\n",
    "    test_accuracies.append(accuracy_score(test_targets, test_preds))\n",
    "\n",
    "    print(f\"Epoch {epoch+1}: Train Loss: {train_losses[-1]:.3f}, Train Acc: {train_accuracies[-1]:.2f}, Test Loss: {test_losses[-1]:.3f}, Test Acc: {test_accuracies[-1]:.2f}\")\n",
    "\n",
    "# Plotting\n",
    "fig, axs = plt.subplots(2, 1)\n",
    "axs[0].plot(train_losses, label='Train Loss')\n",
    "axs[0].plot(test_losses, label='Test Loss')\n",
    "axs[0].set_title('Loss vs Epochs')\n",
    "axs[0].legend()\n",
    "\n",
    "axs[1].plot(train_accuracies, label='Train Accuracy')\n",
    "axs[1].plot(test_accuracies, label='Test Accuracy')\n",
    "axs[1].set_title('Accuracy vs Epochs')\n",
    "axs[1].legend()\n",
    "\n",
    "plt.tight_layout()\n",
    "plt.show()\n"
   ]
  },
  {
   "cell_type": "code",
   "execution_count": null,
   "id": "6a15d3ed",
   "metadata": {},
   "outputs": [],
   "source": []
  }
 ],
 "metadata": {
  "kernelspec": {
   "display_name": "Python 3 (ipykernel)",
   "language": "python",
   "name": "python3"
  },
  "language_info": {
   "codemirror_mode": {
    "name": "ipython",
    "version": 3
   },
   "file_extension": ".py",
   "mimetype": "text/x-python",
   "name": "python",
   "nbconvert_exporter": "python",
   "pygments_lexer": "ipython3",
   "version": "3.9.12"
  }
 },
 "nbformat": 4,
 "nbformat_minor": 5
}
